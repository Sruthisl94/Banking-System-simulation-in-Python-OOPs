{
 "cells": [
  {
   "cell_type": "code",
   "execution_count": 8,
   "id": "5ed6777e-254d-49a7-846e-d4f155cd5f0a",
   "metadata": {},
   "outputs": [
    {
     "name": "stdin",
     "output_type": "stream",
     "text": [
      "Enter the pin: 1230\n"
     ]
    },
    {
     "name": "stdout",
     "output_type": "stream",
     "text": [
      " Login successful\n",
      "\n",
      "1. Deposit\n",
      "2. Withdraw\n",
      "3. Show Balance\n",
      "4. Transaction History\n",
      "5. Exit\n"
     ]
    },
    {
     "name": "stdin",
     "output_type": "stream",
     "text": [
      "Choose an option:  1\n",
      "Enter the amount to deposit:  2000\n"
     ]
    },
    {
     "name": "stdout",
     "output_type": "stream",
     "text": [
      "rs2000.0 deposited successfully, current balance:Rs3000.0\n",
      "\n",
      "1. Deposit\n",
      "2. Withdraw\n",
      "3. Show Balance\n",
      "4. Transaction History\n",
      "5. Exit\n"
     ]
    },
    {
     "name": "stdin",
     "output_type": "stream",
     "text": [
      "Choose an option:  2\n",
      "Enter the amount to withdraw:  500\n"
     ]
    },
    {
     "name": "stdout",
     "output_type": "stream",
     "text": [
      "Rs 500.0 withdraw successfully, current balance:Rs2500.0\n",
      "\n",
      "1. Deposit\n",
      "2. Withdraw\n",
      "3. Show Balance\n",
      "4. Transaction History\n",
      "5. Exit\n"
     ]
    },
    {
     "name": "stdin",
     "output_type": "stream",
     "text": [
      "Choose an option:  3\n"
     ]
    },
    {
     "name": "stdout",
     "output_type": "stream",
     "text": [
      "Current balance: Rs2500.0\n",
      "\n",
      "1. Deposit\n",
      "2. Withdraw\n",
      "3. Show Balance\n",
      "4. Transaction History\n",
      "5. Exit\n"
     ]
    },
    {
     "name": "stdin",
     "output_type": "stream",
     "text": [
      "Choose an option:  4\n"
     ]
    },
    {
     "name": "stdout",
     "output_type": "stream",
     "text": [
      "Transaction History\n",
      "Deposited:Rs2000.0\n",
      "Withdraw:Rs 500.0\n",
      "\n",
      "1. Deposit\n",
      "2. Withdraw\n",
      "3. Show Balance\n",
      "4. Transaction History\n",
      "5. Exit\n"
     ]
    },
    {
     "name": "stdin",
     "output_type": "stream",
     "text": [
      "Choose an option:  5\n"
     ]
    },
    {
     "name": "stdout",
     "output_type": "stream",
     "text": [
      "Thank you for banking with us!\n"
     ]
    }
   ],
   "source": [
    "class BankAccount:\n",
    "    def __init__(self,account_number,pin,balance=0):\n",
    "        self.account_number=account_number\n",
    "        self.pin=pin\n",
    "        self.balance=balance\n",
    "        self.transactions=[]\n",
    "    def login(self,entered_pin):\n",
    "        if self.pin==entered_pin:\n",
    "            print(f\" Login successful\")\n",
    "            return True\n",
    "        else:\n",
    "            print(f\"Invalid pin, Three attempts remaining\")\n",
    "            return False\n",
    "\n",
    "    def deposit(self,amount):\n",
    "        self.balance+=amount\n",
    "        self.transactions.append(f\"Deposited:Rs{amount}\")\n",
    "        print(f\"rs{amount} deposited successfully, current balance:Rs{self.balance}\")\n",
    "    def withdraw(self,amount):\n",
    "        if amount<=self.balance:\n",
    "            self.balance-=amount\n",
    "            self.transactions.append(f\"Withdraw:Rs {amount}\")\n",
    "            print(f\"Rs {amount} withdraw successfully, current balance:Rs{self.balance}\")\n",
    "        elif amount>self.balance:\n",
    "            print(f\"Insuficient balance\")\n",
    "\n",
    "    def show_balance(self):\n",
    "        print(f\"Current balance: Rs{self.balance}\")\n",
    "    def show_transaction_history(self):\n",
    "        print(f\"Transaction History\")\n",
    "        for i in self.transactions:\n",
    "            print(i)\n",
    "account=BankAccount(account_number=\"123456789\",pin=\"1230\",balance=1000)\n",
    "entered_pin=input(\"Enter the pin:\")\n",
    "if account.login(entered_pin):\n",
    "     while True:\n",
    "        print(\"\\n1. Deposit\")\n",
    "        print(\"2. Withdraw\")\n",
    "        print(\"3. Show Balance\")\n",
    "        print(\"4. Transaction History\")\n",
    "        print(\"5. Exit\")\n",
    "        user = int(input(\"Choose an option: \"))\n",
    "        \n",
    "        if user == 1:\n",
    "            amount = float(input(\"Enter the amount to deposit: \"))\n",
    "            account.deposit(amount)\n",
    "        elif user == 2:\n",
    "            amount = float(input(\"Enter the amount to withdraw: \"))\n",
    "            account.withdraw(amount)\n",
    "        elif user == 3:\n",
    "            account.show_balance()\n",
    "        elif user == 4:\n",
    "            account.show_transaction_history()\n",
    "        elif user == 5:\n",
    "            print(\"Thank you for banking with us!\")\n",
    "            break\n",
    "        else:\n",
    "            print(\"Invalid option. Please try again.\")\n",
    "\n",
    "        \n",
    "        \n",
    "    "
   ]
  }
 ],
 "metadata": {
  "kernelspec": {
   "display_name": "Python 3 (ipykernel)",
   "language": "python",
   "name": "python3"
  },
  "language_info": {
   "codemirror_mode": {
    "name": "ipython",
    "version": 3
   },
   "file_extension": ".py",
   "mimetype": "text/x-python",
   "name": "python",
   "nbconvert_exporter": "python",
   "pygments_lexer": "ipython3",
   "version": "3.12.1"
  }
 },
 "nbformat": 4,
 "nbformat_minor": 5
}
